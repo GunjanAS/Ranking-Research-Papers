{
 "cells": [
  {
   "cell_type": "code",
   "execution_count": 3,
   "id": "fc58aaf6",
   "metadata": {},
   "outputs": [],
   "source": [
    "import pandas as pd"
   ]
  },
  {
   "cell_type": "code",
   "execution_count": 4,
   "id": "b2132e09",
   "metadata": {},
   "outputs": [],
   "source": [
    "df1 = pd.read_csv('ACM Computing Surveys.csv')\n",
    "df2 = pd.read_csv('IEEE Transactions on Cybernetics.csv')\n",
    "df3 = pd.read_csv('IEEE Transactions on Network and Service Management.csv')\n",
    "df4 = pd.read_csv('International Conference on Architectural Support for Programming Languages and Operating Systems - ASPLOS.csv')\n",
    "df5 = pd.read_csv('Proceedings of the ACM Conference on Computer and Communications Security.csv')\n",
    "df6 = pd.read_csv('Proceedings of the ACM SIGMOD International Conference on Management of Data.csv')\n",
    "df7 = pd.read_csv('Proceedings of the Annual ACM Symposium on Principles of Distributed Computing.csv')\n",
    "df8 = pd.read_csv('Proceedings of the IEEE International Conference on Computer Vision.csv')"
   ]
  },
  {
   "cell_type": "code",
   "execution_count": 17,
   "id": "2d045af3",
   "metadata": {},
   "outputs": [
    {
     "data": {
      "text/plain": [
       "163"
      ]
     },
     "execution_count": 17,
     "metadata": {},
     "output_type": "execute_result"
    }
   ],
   "source": [
    "len(df1[df1['Year'] == 2019])"
   ]
  },
  {
   "cell_type": "code",
   "execution_count": 20,
   "id": "b7fb3c03",
   "metadata": {},
   "outputs": [],
   "source": [
    "df1_doi=df1[\"DOI\"]\n",
    "df2_doi=df2[\"DOI\"]\n",
    "df3_doi=df3[\"DOI\"]\n",
    "df4_doi=df4[\"DOI\"]\n",
    "df5_doi=df5[\"DOI\"]\n",
    "df6_doi=df6[\"DOI\"]\n",
    "df7_doi=df7[\"DOI\"]\n",
    "df8_doi=df8[\"DOI\"]"
   ]
  },
  {
   "cell_type": "code",
   "execution_count": 21,
   "id": "0f79d95e",
   "metadata": {},
   "outputs": [],
   "source": [
    "array_dfs=[df1_doi,df2_doi,df3_doi,df4_doi,df5_doi,df6_doi,df7_doi,df8_doi]\n",
    "df = pd.concat(array_dfs)\n"
   ]
  },
  {
   "cell_type": "code",
   "execution_count": 28,
   "id": "55bc45f4",
   "metadata": {},
   "outputs": [],
   "source": [
    "arr=df.values.tolist()"
   ]
  },
  {
   "cell_type": "code",
   "execution_count": 30,
   "id": "d6391315",
   "metadata": {},
   "outputs": [
    {
     "data": {
      "text/plain": [
       "list"
      ]
     },
     "execution_count": 30,
     "metadata": {},
     "output_type": "execute_result"
    }
   ],
   "source": [
    "type(arr)"
   ]
  },
  {
   "cell_type": "code",
   "execution_count": 31,
   "id": "e40fe9a1",
   "metadata": {},
   "outputs": [
    {
     "data": {
      "text/plain": [
       "'ACM Comput. Surv.'"
      ]
     },
     "execution_count": 31,
     "metadata": {},
     "output_type": "execute_result"
    }
   ],
   "source": [
    "from semanticscholar import SemanticScholar\n",
    "sch = SemanticScholar(timeout=5)\n",
    "metrics_semanticscholar = sch.paper(arr[0])\n",
    "metrics_semanticscholar['venue']"
   ]
  },
  {
   "cell_type": "code",
   "execution_count": 35,
   "id": "8e0eac44",
   "metadata": {},
   "outputs": [
    {
     "name": "stdout",
     "output_type": "stream",
     "text": [
      "ACM Comput. Surv.\n"
     ]
    }
   ],
   "source": [
    "connference_name=\"Null\"\n",
    "conf=[\"FSE\",\"AAAI\",\"ACL\",\"CHI\",\"CIKM\",\"CVPR\",\"FOCS\",\"ICCV\",\"ICML\",\"ICSE\",\"IJCAI\",\"INFOCOM\",\"KDD\",\"MOBICOM\",\"NeurIPS\",\"NSDI\",\"OSDI\",\"PLDI\",\"PODS\",\"S&P\",\"SIGCOMM\",\"SIGIR\",\"SIGMETRICS\",\"SIGMOD\",\"SODA\",\"SOSP\",\"STOC\",\"UIST\",\"VLDB\",\"WWW\"]\n",
    "\n",
    "if len(metrics_semanticscholar['venue'].split(\" \"))==1:\n",
    "    connference_name=metrics_semanticscholar['venue'].split(\" \")[0]\n",
    "for c in conf:\n",
    "    if c in metrics_semanticscholar['venue'].split(\" \"):\n",
    "        connference_name=c\n",
    "        break\n",
    "if connference_name==\"Null\":\n",
    "    s=metrics_semanticscholar['venue']\n",
    "    if \"(\" in s and \")\" in s:\n",
    "        connference_name=s[s.find(\"(\")+1:s.find(\")\")]\n",
    "    else:\n",
    "        connference_name=s\n",
    "print(connference_name)"
   ]
  },
  {
   "cell_type": "code",
   "execution_count": null,
   "id": "43bae086",
   "metadata": {},
   "outputs": [],
   "source": []
  }
 ],
 "metadata": {
  "kernelspec": {
   "display_name": "Python 3 (ipykernel)",
   "language": "python",
   "name": "python3"
  },
  "language_info": {
   "codemirror_mode": {
    "name": "ipython",
    "version": 3
   },
   "file_extension": ".py",
   "mimetype": "text/x-python",
   "name": "python",
   "nbconvert_exporter": "python",
   "pygments_lexer": "ipython3",
   "version": "3.8.7"
  }
 },
 "nbformat": 4,
 "nbformat_minor": 5
}
